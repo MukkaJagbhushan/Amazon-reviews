{
 "cells": [
  {
   "cell_type": "markdown",
   "metadata": {
    "id": "-bsxBO2KHWs_"
   },
   "source": [
    "# CAPSTONE PROJECT"
   ]
  },
  {
   "cell_type": "markdown",
   "metadata": {},
   "source": [
    "Amazon is an online shopping website that now caters to millions of people everywhere. Over 34,000 consumer reviews for Amazon brand products like Kindle, Fire TV Stick and more are provided. \n",
    "The dataset has attributes like brand, categories, primary categories, reviews.title, reviews.text, and the sentiment. Sentiment is a categorical variable with three levels \"Positive\", \"Negative“, and \"Neutral\". For a given unseen data, the sentiment needs to be predicted.\n",
    "You are required to predict Sentiment or Satisfaction of a purchase based on multiple features and review text.\n",
    "Dataset Snapshot\n",
    "\n",
    "\n",
    "\n",
    "Project Task: Week 1\n",
    "\n",
    "Class Imbalance Problem:\n",
    "\n",
    "1. Perform an EDA on the dataset.\n",
    "\n",
    "       a)  See what a positive, negative, and neutral review looks like\n",
    "\n",
    "       b)  Check the class count for each class. It’s a class imbalance problem.\n",
    "\n",
    "2. Convert the reviews in Tf-Idf score.\n",
    "\n",
    "3. Run multinomial Naive Bayes classifier. Everything will be classified as positive because of the class imbalance.\n",
    "\n",
    "Project Task: Week 2\n",
    "\n",
    "Tackling Class Imbalance Problem:\n",
    "\n",
    "Oversampling or undersampling can be used to tackle the class imbalance problem. \n",
    "In case of class imbalance criteria, use the following metrices for evaluating model performance: precision, recall, F1-score, AUC-ROC curve. Use F1-Score as the evaluation criteria for this      project.\n",
    "Use Tree-based classifiers like Random Forest and XGBoost.\n",
    "       Note: Tree-based classifiers work on two ideologies namely, Bagging or Boosting and have fine-tuning parameter which takes care of the imbalanced class.\n",
    "\n",
    "Project Task: Week 3\n",
    "\n",
    "Model Selection:\n",
    "\n",
    "Apply multi-class SVM’s and neural nets.\n",
    "Use possible ensemble techniques like: XGboost + oversampled_multinomial_NB.\n",
    "Assign a score to the sentence sentiment (engineer a feature called sentiment score). Use this engineered feature in the model and check for improvements. Draw insights on the same.\n",
    "Project Task: Week 4\n",
    "\n",
    "Applying LSTM:\n",
    "\n",
    "Use LSTM for the previous problem (use parameters of LSTM like top-word, embedding-length, Dropout, epochs, number of layers, etc.)\n",
    "       Hint: Another variation of LSTM, GRU (Gated Recurrent Units) can be tried as well.\n",
    "\n",
    "      2. Compare the accuracy of neural nets with traditional ML based algorithms.\n",
    "\n",
    "      3. Find the best setting of LSTM (Neural Net) and GRU that can best classify the reviews as positive, negative, and neutral. \n",
    "\n",
    "       Hint: Use techniques like Grid Search, Cross-Validation and Random Search\n"
   ]
  },
  {
   "cell_type": "markdown",
   "metadata": {
    "id": "-bsxBO2KHWs_"
   },
   "source": [
    "Import required libraries"
   ]
  },
  {
   "cell_type": "code",
   "execution_count": null,
   "metadata": {},
   "outputs": [],
   "source": [
    "import pandas as pd\n",
    "import numpy as np"
   ]
  },
  {
   "cell_type": "markdown",
   "metadata": {},
   "source": [
    "Upload the data files to python environment as DataFrames"
   ]
  },
  {
   "cell_type": "code",
   "execution_count": 3,
   "metadata": {
    "id": "ugy5CoGUHWtH"
   },
   "outputs": [],
   "source": [
    "train_df=pd.read_csv(\"D:\\\\Users\\\\happy\\\\Downloads\\\\New folder\\\\Ecommerce\\\\train_data.csv\")\n",
    "test_df=pd.read_csv(\"D:\\\\Users\\\\happy\\\\Downloads\\\\New folder\\\\Ecommerce\\\\test_data.csv\")\n",
    "test_hidden_df=pd.read_csv(\"D:\\\\Users\\\\happy\\\\Downloads\\\\New folder\\\\Ecommerce\\\\test_data_hidden.csv\")"
   ]
  },
  {
   "cell_type": "markdown",
   "metadata": {
    "id": "72TjoO_IAba7"
   },
   "source": [
    "Show the first five observations"
   ]
  },
  {
   "cell_type": "code",
   "execution_count": 4,
   "metadata": {
    "colab": {
     "base_uri": "https://localhost:8080/",
     "height": 527
    },
    "id": "6hQ6_DZAHWtN",
    "outputId": "d576965c-2c69-4857-ddf6-169e3851e1b5"
   },
   "outputs": [
    {
     "data": {
      "text/html": [
       "<div>\n",
       "<style scoped>\n",
       "    .dataframe tbody tr th:only-of-type {\n",
       "        vertical-align: middle;\n",
       "    }\n",
       "\n",
       "    .dataframe tbody tr th {\n",
       "        vertical-align: top;\n",
       "    }\n",
       "\n",
       "    .dataframe thead th {\n",
       "        text-align: right;\n",
       "    }\n",
       "</style>\n",
       "<table border=\"1\" class=\"dataframe\">\n",
       "  <thead>\n",
       "    <tr style=\"text-align: right;\">\n",
       "      <th></th>\n",
       "      <th>name</th>\n",
       "      <th>brand</th>\n",
       "      <th>categories</th>\n",
       "      <th>primaryCategories</th>\n",
       "      <th>reviews.date</th>\n",
       "      <th>reviews.text</th>\n",
       "      <th>reviews.title</th>\n",
       "      <th>sentiment</th>\n",
       "    </tr>\n",
       "  </thead>\n",
       "  <tbody>\n",
       "    <tr>\n",
       "      <th>0</th>\n",
       "      <td>All-New Fire HD 8 Tablet, 8\" HD Display, Wi-Fi...</td>\n",
       "      <td>Amazon</td>\n",
       "      <td>Electronics,iPad &amp; Tablets,All Tablets,Fire Ta...</td>\n",
       "      <td>Electronics</td>\n",
       "      <td>2016-12-26T00:00:00.000Z</td>\n",
       "      <td>Purchased on Black FridayPros - Great Price (e...</td>\n",
       "      <td>Powerful tablet</td>\n",
       "      <td>Positive</td>\n",
       "    </tr>\n",
       "    <tr>\n",
       "      <th>1</th>\n",
       "      <td>Amazon - Echo Plus w/ Built-In Hub - Silver</td>\n",
       "      <td>Amazon</td>\n",
       "      <td>Amazon Echo,Smart Home,Networking,Home &amp; Tools...</td>\n",
       "      <td>Electronics,Hardware</td>\n",
       "      <td>2018-01-17T00:00:00.000Z</td>\n",
       "      <td>I purchased two Amazon in Echo Plus and two do...</td>\n",
       "      <td>Amazon Echo Plus AWESOME</td>\n",
       "      <td>Positive</td>\n",
       "    </tr>\n",
       "    <tr>\n",
       "      <th>2</th>\n",
       "      <td>Amazon Echo Show Alexa-enabled Bluetooth Speak...</td>\n",
       "      <td>Amazon</td>\n",
       "      <td>Amazon Echo,Virtual Assistant Speakers,Electro...</td>\n",
       "      <td>Electronics,Hardware</td>\n",
       "      <td>2017-12-20T00:00:00.000Z</td>\n",
       "      <td>Just an average Alexa option. Does show a few ...</td>\n",
       "      <td>Average</td>\n",
       "      <td>Neutral</td>\n",
       "    </tr>\n",
       "    <tr>\n",
       "      <th>3</th>\n",
       "      <td>Fire HD 10 Tablet, 10.1 HD Display, Wi-Fi, 16 ...</td>\n",
       "      <td>Amazon</td>\n",
       "      <td>eBook Readers,Fire Tablets,Electronics Feature...</td>\n",
       "      <td>Office Supplies,Electronics</td>\n",
       "      <td>2017-08-04T00:00:00.000Z</td>\n",
       "      <td>very good product. Exactly what I wanted, and ...</td>\n",
       "      <td>Greattttttt</td>\n",
       "      <td>Positive</td>\n",
       "    </tr>\n",
       "    <tr>\n",
       "      <th>4</th>\n",
       "      <td>Brand New Amazon Kindle Fire 16gb 7\" Ips Displ...</td>\n",
       "      <td>Amazon</td>\n",
       "      <td>Computers/Tablets &amp; Networking,Tablets &amp; eBook...</td>\n",
       "      <td>Electronics</td>\n",
       "      <td>2017-01-23T00:00:00.000Z</td>\n",
       "      <td>This is the 3rd one I've purchased. I've bough...</td>\n",
       "      <td>Very durable!</td>\n",
       "      <td>Positive</td>\n",
       "    </tr>\n",
       "  </tbody>\n",
       "</table>\n",
       "</div>"
      ],
      "text/plain": [
       "                                                name   brand  \\\n",
       "0  All-New Fire HD 8 Tablet, 8\" HD Display, Wi-Fi...  Amazon   \n",
       "1        Amazon - Echo Plus w/ Built-In Hub - Silver  Amazon   \n",
       "2  Amazon Echo Show Alexa-enabled Bluetooth Speak...  Amazon   \n",
       "3  Fire HD 10 Tablet, 10.1 HD Display, Wi-Fi, 16 ...  Amazon   \n",
       "4  Brand New Amazon Kindle Fire 16gb 7\" Ips Displ...  Amazon   \n",
       "\n",
       "                                          categories  \\\n",
       "0  Electronics,iPad & Tablets,All Tablets,Fire Ta...   \n",
       "1  Amazon Echo,Smart Home,Networking,Home & Tools...   \n",
       "2  Amazon Echo,Virtual Assistant Speakers,Electro...   \n",
       "3  eBook Readers,Fire Tablets,Electronics Feature...   \n",
       "4  Computers/Tablets & Networking,Tablets & eBook...   \n",
       "\n",
       "             primaryCategories              reviews.date  \\\n",
       "0                  Electronics  2016-12-26T00:00:00.000Z   \n",
       "1         Electronics,Hardware  2018-01-17T00:00:00.000Z   \n",
       "2         Electronics,Hardware  2017-12-20T00:00:00.000Z   \n",
       "3  Office Supplies,Electronics  2017-08-04T00:00:00.000Z   \n",
       "4                  Electronics  2017-01-23T00:00:00.000Z   \n",
       "\n",
       "                                        reviews.text  \\\n",
       "0  Purchased on Black FridayPros - Great Price (e...   \n",
       "1  I purchased two Amazon in Echo Plus and two do...   \n",
       "2  Just an average Alexa option. Does show a few ...   \n",
       "3  very good product. Exactly what I wanted, and ...   \n",
       "4  This is the 3rd one I've purchased. I've bough...   \n",
       "\n",
       "              reviews.title sentiment  \n",
       "0           Powerful tablet  Positive  \n",
       "1  Amazon Echo Plus AWESOME  Positive  \n",
       "2                   Average   Neutral  \n",
       "3               Greattttttt  Positive  \n",
       "4             Very durable!  Positive  "
      ]
     },
     "execution_count": 4,
     "metadata": {},
     "output_type": "execute_result"
    }
   ],
   "source": [
    "train_df.head()"
   ]
  },
  {
   "cell_type": "code",
   "execution_count": 5,
   "metadata": {
    "id": "MzlrQ1UNHWtU"
   },
   "outputs": [],
   "source": [
    "positive=train_df[train_df[\"sentiment\"]==\"Positive\"]\n",
    "negative=train_df[train_df[\"sentiment\"]==\"Negative\"]\n",
    "neutral=train_df[train_df[\"sentiment\"]==\"Neutral\"]"
   ]
  },
  {
   "cell_type": "markdown",
   "metadata": {},
   "source": [
    "check the count each class"
   ]
  },
  {
   "cell_type": "code",
   "execution_count": 6,
   "metadata": {
    "colab": {
     "base_uri": "https://localhost:8080/",
     "height": 119
    },
    "id": "vh-mLAgeHWta",
    "outputId": "c8796c63-08ec-4c07-e13a-8ece5061fa41"
   },
   "outputs": [
    {
     "name": "stdout",
     "output_type": "stream",
     "text": [
      "Positive    3749\n",
      "Name: sentiment, dtype: int64\n",
      "Negative    93\n",
      "Name: sentiment, dtype: int64\n",
      "Neutral    158\n",
      "Name: sentiment, dtype: int64\n"
     ]
    }
   ],
   "source": [
    "print(positive[\"sentiment\"].value_counts())\n",
    "print(negative[\"sentiment\"].value_counts())\n",
    "print(neutral[\"sentiment\"].value_counts())"
   ]
  },
  {
   "cell_type": "markdown",
   "metadata": {},
   "source": [
    "Store only the required data into dataframe, as only text and target are required"
   ]
  },
  {
   "cell_type": "code",
   "execution_count": 12,
   "metadata": {
    "id": "609TvK2FHWtf"
   },
   "outputs": [],
   "source": [
    "data=train_df[[\"sentiment\",\"reviews.text\"]]"
   ]
  },
  {
   "cell_type": "code",
   "execution_count": 13,
   "metadata": {
    "colab": {
     "base_uri": "https://localhost:8080/",
     "height": 221
    },
    "id": "9adBg6EnHWtn",
    "outputId": "49380919-98d9-480e-b24d-0bf58c34cbf5"
   },
   "outputs": [
    {
     "name": "stdout",
     "output_type": "stream",
     "text": [
      "(4000, 2)\n"
     ]
    },
    {
     "data": {
      "text/html": [
       "<div>\n",
       "<style scoped>\n",
       "    .dataframe tbody tr th:only-of-type {\n",
       "        vertical-align: middle;\n",
       "    }\n",
       "\n",
       "    .dataframe tbody tr th {\n",
       "        vertical-align: top;\n",
       "    }\n",
       "\n",
       "    .dataframe thead th {\n",
       "        text-align: right;\n",
       "    }\n",
       "</style>\n",
       "<table border=\"1\" class=\"dataframe\">\n",
       "  <thead>\n",
       "    <tr style=\"text-align: right;\">\n",
       "      <th></th>\n",
       "      <th>sentiment</th>\n",
       "      <th>reviews.text</th>\n",
       "    </tr>\n",
       "  </thead>\n",
       "  <tbody>\n",
       "    <tr>\n",
       "      <th>0</th>\n",
       "      <td>Positive</td>\n",
       "      <td>Purchased on Black FridayPros - Great Price (e...</td>\n",
       "    </tr>\n",
       "    <tr>\n",
       "      <th>1</th>\n",
       "      <td>Positive</td>\n",
       "      <td>I purchased two Amazon in Echo Plus and two do...</td>\n",
       "    </tr>\n",
       "    <tr>\n",
       "      <th>2</th>\n",
       "      <td>Neutral</td>\n",
       "      <td>Just an average Alexa option. Does show a few ...</td>\n",
       "    </tr>\n",
       "    <tr>\n",
       "      <th>3</th>\n",
       "      <td>Positive</td>\n",
       "      <td>very good product. Exactly what I wanted, and ...</td>\n",
       "    </tr>\n",
       "    <tr>\n",
       "      <th>4</th>\n",
       "      <td>Positive</td>\n",
       "      <td>This is the 3rd one I've purchased. I've bough...</td>\n",
       "    </tr>\n",
       "  </tbody>\n",
       "</table>\n",
       "</div>"
      ],
      "text/plain": [
       "  sentiment                                       reviews.text\n",
       "0  Positive  Purchased on Black FridayPros - Great Price (e...\n",
       "1  Positive  I purchased two Amazon in Echo Plus and two do...\n",
       "2   Neutral  Just an average Alexa option. Does show a few ...\n",
       "3  Positive  very good product. Exactly what I wanted, and ...\n",
       "4  Positive  This is the 3rd one I've purchased. I've bough..."
      ]
     },
     "execution_count": 13,
     "metadata": {},
     "output_type": "execute_result"
    }
   ],
   "source": [
    "print(data.shape)\n",
    "data.head()"
   ]
  },
  {
   "cell_type": "markdown",
   "metadata": {},
   "source": [
    "Check the class Imbalance visually using matplotlib"
   ]
  },
  {
   "cell_type": "code",
   "execution_count": 32,
   "metadata": {},
   "outputs": [],
   "source": [
    "import matplotlib.pyplot as plt\n",
    "%matplotlib inline \n",
    "import seaborn as sns"
   ]
  },
  {
   "cell_type": "code",
   "execution_count": 34,
   "metadata": {},
   "outputs": [
    {
     "data": {
      "text/plain": [
       "<matplotlib.axes._subplots.AxesSubplot at 0x163fde48>"
      ]
     },
     "execution_count": 34,
     "metadata": {},
     "output_type": "execute_result"
    },
    {
     "data": {
      "image/png": "[encoded data removed]",
      "text/plain": [
       "<Figure size 432x288 with 1 Axes>"
      ]
     },
     "metadata": {
      "needs_background": "light"
     },
     "output_type": "display_data"
    }
   ],
   "source": [
    "sns.countplot(data[\"sentiment\"])"
   ]
  },
  {
   "cell_type": "markdown",
   "metadata": {},
   "source": [
    "Its is clearly class imbalance problem"
   ]
  },
  {
   "cell_type": "code",
   "execution_count": null,
   "metadata": {},
   "outputs": [],
   "source": []
  },
  {
   "cell_type": "markdown",
   "metadata": {},
   "source": [
    "# Text preprocessing"
   ]
  },
  {
   "cell_type": "markdown",
   "metadata": {},
   "source": [
    "Import all the required libraries for text preprocesing"
   ]
  },
  {
   "cell_type": "code",
   "execution_count": 8,
   "metadata": {
    "id": "AxDlimjsHWts"
   },
   "outputs": [],
   "source": [
    "from nltk.tokenize import RegexpTokenizer\n",
    "from nltk.stem import RegexpStemmer\n",
    "from nltk.stem import WordNetLemmatizer\n",
    "from nltk.corpus import stopwords,wordnet"
   ]
  },
  {
   "cell_type": "code",
   "execution_count": 9,
   "metadata": {
    "colab": {
     "base_uri": "https://localhost:8080/",
     "height": 85
    },
    "id": "JG2C_XbcHWtx",
    "outputId": "6408833b-2127-449f-a45f-b9d87e3b1562"
   },
   "outputs": [
    {
     "name": "stdout",
     "output_type": "stream",
     "text": [
      "[nltk_data] Downloading package wordnet to /root/nltk_data...\n",
      "[nltk_data]   Unzipping corpora/wordnet.zip.\n",
      "[nltk_data] Downloading package stopwords to /root/nltk_data...\n",
      "[nltk_data]   Unzipping corpora/stopwords.zip.\n"
     ]
    }
   ],
   "source": [
    "lemmatizer=WordNetLemmatizer()\n",
    "tokenizer=RegexpTokenizer(r'[a-z]+')\n",
    "import nltk\n",
    "nltk.download('wordnet')\n",
    "#Download Stopwords\n",
    "nltk.download('stopwords')\n",
    "stopwords=set(stopwords.words(\"english\"))\n"
   ]
  },
  {
   "cell_type": "markdown",
   "metadata": {},
   "source": [
    "Define a function for preprocessing"
   ]
  },
  {
   "cell_type": "code",
   "execution_count": 10,
   "metadata": {
    "id": "OKn-UCt5HWt2"
   },
   "outputs": [],
   "source": [
    "def preprocess(text):\n",
    "    text=text.lower()\n",
    "    words=tokenizer.tokenize(text)\n",
    "    words=[w for w in text if not w in stopwords]\n",
    "    for pos in [wordnet.NOUN, wordnet.VERB, wordnet.ADJ, wordnet.ADV]:\n",
    "        words=[lemmatizer.lemmatize(x, pos) for x in words]\n",
    "    return ''.join(words)\n",
    "    "
   ]
  },
  {
   "cell_type": "code",
   "execution_count": 11,
   "metadata": {
    "id": "PJrn1n_BHWt6"
   },
   "outputs": [],
   "source": [
    "from nltk.corpus import stopwords\n",
    "wordnet_lemmatizer = WordNetLemmatizer()\n",
    "tokenizer = RegexpTokenizer(r'[a-z]+')\n",
    "stop_words = set(stopwords.words('english'))\n",
    "def preprocess(document):\n",
    "    document = document.lower() # Convert to lowercase\n",
    "    words = tokenizer.tokenize(document) # Tokenize\n",
    "    words = [w for w in words if not w in stop_words] # Removing stopwords\n",
    "    # Lemmatizing\n",
    "    for pos in [wordnet.NOUN, wordnet.VERB, wordnet.ADJ, wordnet.ADV]:\n",
    "        words = [wordnet_lemmatizer.lemmatize(x, pos) for x in words]\n",
    "    return \" \".join(words)"
   ]
  },
  {
   "cell_type": "code",
   "execution_count": 12,
   "metadata": {
    "colab": {
     "base_uri": "https://localhost:8080/",
     "height": 119
    },
    "id": "N98RBUIoHWt_",
    "outputId": "c1529617-8d45-4fb6-8cd4-c418af56f288"
   },
   "outputs": [
    {
     "name": "stderr",
     "output_type": "stream",
     "text": [
      "/usr/local/lib/python2.7/dist-packages/ipykernel_launcher.py:1: SettingWithCopyWarning: \n",
      "A value is trying to be set on a copy of a slice from a DataFrame.\n",
      "Try using .loc[row_indexer,col_indexer] = value instead\n",
      "\n",
      "See the caveats in the documentation: http://pandas.pydata.org/pandas-docs/stable/indexing.html#indexing-view-versus-copy\n",
      "  \"\"\"Entry point for launching an IPython kernel.\n"
     ]
    }
   ],
   "source": [
    "data[\"processed_review\"]=data['reviews.text'].apply(preprocess)"
   ]
  },
  {
   "cell_type": "code",
   "execution_count": 13,
   "metadata": {
    "colab": {
     "base_uri": "https://localhost:8080/",
     "height": 204
    },
    "id": "QbNPXA-BHWuE",
    "outputId": "057098e8-24ef-44f7-fdea-43736b128678"
   },
   "outputs": [
    {
     "data": {
      "text/html": [
       "<div>\n",
       "<style scoped>\n",
       "    .dataframe tbody tr th:only-of-type {\n",
       "        vertical-align: middle;\n",
       "    }\n",
       "\n",
       "    .dataframe tbody tr th {\n",
       "        vertical-align: top;\n",
       "    }\n",
       "\n",
       "    .dataframe thead th {\n",
       "        text-align: right;\n",
       "    }\n",
       "</style>\n",
       "<table border=\"1\" class=\"dataframe\">\n",
       "  <thead>\n",
       "    <tr style=\"text-align: right;\">\n",
       "      <th></th>\n",
       "      <th>sentiment</th>\n",
       "      <th>reviews.text</th>\n",
       "      <th>processed_review</th>\n",
       "    </tr>\n",
       "  </thead>\n",
       "  <tbody>\n",
       "    <tr>\n",
       "      <th>0</th>\n",
       "      <td>Positive</td>\n",
       "      <td>Purchased on Black FridayPros - Great Price (e...</td>\n",
       "      <td>purchase black fridaypros great price even sal...</td>\n",
       "    </tr>\n",
       "    <tr>\n",
       "      <th>1</th>\n",
       "      <td>Positive</td>\n",
       "      <td>I purchased two Amazon in Echo Plus and two do...</td>\n",
       "      <td>purchase two amazon echo plus two dot plus fou...</td>\n",
       "    </tr>\n",
       "    <tr>\n",
       "      <th>2</th>\n",
       "      <td>Neutral</td>\n",
       "      <td>Just an average Alexa option. Does show a few ...</td>\n",
       "      <td>average alexa option show thing screen still l...</td>\n",
       "    </tr>\n",
       "    <tr>\n",
       "      <th>3</th>\n",
       "      <td>Positive</td>\n",
       "      <td>very good product. Exactly what I wanted, and ...</td>\n",
       "      <td>good product exactly want good price</td>\n",
       "    </tr>\n",
       "    <tr>\n",
       "      <th>4</th>\n",
       "      <td>Positive</td>\n",
       "      <td>This is the 3rd one I've purchased. I've bough...</td>\n",
       "      <td>rd one purchase buy one niece case compare one...</td>\n",
       "    </tr>\n",
       "  </tbody>\n",
       "</table>\n",
       "</div>"
      ],
      "text/plain": [
       "  sentiment                                       reviews.text  \\\n",
       "0  Positive  Purchased on Black FridayPros - Great Price (e...   \n",
       "1  Positive  I purchased two Amazon in Echo Plus and two do...   \n",
       "2   Neutral  Just an average Alexa option. Does show a few ...   \n",
       "3  Positive  very good product. Exactly what I wanted, and ...   \n",
       "4  Positive  This is the 3rd one I've purchased. I've bough...   \n",
       "\n",
       "                                    processed_review  \n",
       "0  purchase black fridaypros great price even sal...  \n",
       "1  purchase two amazon echo plus two dot plus fou...  \n",
       "2  average alexa option show thing screen still l...  \n",
       "3               good product exactly want good price  \n",
       "4  rd one purchase buy one niece case compare one...  "
      ]
     },
     "execution_count": 13,
     "metadata": {
      "tags": []
     },
     "output_type": "execute_result"
    }
   ],
   "source": [
    "data.head()"
   ]
  },
  {
   "cell_type": "code",
   "execution_count": 14,
   "metadata": {
    "id": "YasD7pVjHWuI"
   },
   "outputs": [],
   "source": [
    "data1=data.drop(['reviews.text'],axis=1)"
   ]
  },
  {
   "cell_type": "code",
   "execution_count": 15,
   "metadata": {
    "colab": {
     "base_uri": "https://localhost:8080/",
     "height": 204
    },
    "id": "OGs-qXYmHWuN",
    "outputId": "374df6bf-1007-44d7-97e9-64343e23b1b4"
   },
   "outputs": [
    {
     "data": {
      "text/html": [
       "<div>\n",
       "<style scoped>\n",
       "    .dataframe tbody tr th:only-of-type {\n",
       "        vertical-align: middle;\n",
       "    }\n",
       "\n",
       "    .dataframe tbody tr th {\n",
       "        vertical-align: top;\n",
       "    }\n",
       "\n",
       "    .dataframe thead th {\n",
       "        text-align: right;\n",
       "    }\n",
       "</style>\n",
       "<table border=\"1\" class=\"dataframe\">\n",
       "  <thead>\n",
       "    <tr style=\"text-align: right;\">\n",
       "      <th></th>\n",
       "      <th>sentiment</th>\n",
       "      <th>processed_review</th>\n",
       "    </tr>\n",
       "  </thead>\n",
       "  <tbody>\n",
       "    <tr>\n",
       "      <th>0</th>\n",
       "      <td>Positive</td>\n",
       "      <td>purchase black fridaypros great price even sal...</td>\n",
       "    </tr>\n",
       "    <tr>\n",
       "      <th>1</th>\n",
       "      <td>Positive</td>\n",
       "      <td>purchase two amazon echo plus two dot plus fou...</td>\n",
       "    </tr>\n",
       "    <tr>\n",
       "      <th>2</th>\n",
       "      <td>Neutral</td>\n",
       "      <td>average alexa option show thing screen still l...</td>\n",
       "    </tr>\n",
       "    <tr>\n",
       "      <th>3</th>\n",
       "      <td>Positive</td>\n",
       "      <td>good product exactly want good price</td>\n",
       "    </tr>\n",
       "    <tr>\n",
       "      <th>4</th>\n",
       "      <td>Positive</td>\n",
       "      <td>rd one purchase buy one niece case compare one...</td>\n",
       "    </tr>\n",
       "  </tbody>\n",
       "</table>\n",
       "</div>"
      ],
      "text/plain": [
       "  sentiment                                   processed_review\n",
       "0  Positive  purchase black fridaypros great price even sal...\n",
       "1  Positive  purchase two amazon echo plus two dot plus fou...\n",
       "2   Neutral  average alexa option show thing screen still l...\n",
       "3  Positive               good product exactly want good price\n",
       "4  Positive  rd one purchase buy one niece case compare one..."
      ]
     },
     "execution_count": 15,
     "metadata": {
      "tags": []
     },
     "output_type": "execute_result"
    }
   ],
   "source": [
    "data1.head()"
   ]
  },
  {
   "cell_type": "code",
   "execution_count": 16,
   "metadata": {
    "id": "WY3ZkJloHWuR"
   },
   "outputs": [],
   "source": [
    "import string\n",
    "import re"
   ]
  },
  {
   "cell_type": "code",
   "execution_count": 17,
   "metadata": {
    "id": "YML_VofuHWuW"
   },
   "outputs": [],
   "source": [
    "def textpreprocessing(data1):\n",
    "    no_punc=[char for char in data1 if not char in string.punctuation]\n",
    "    sent_without_punc=''.join(no_punc)\n",
    "    words=sent_without_punc.split()\n",
    "    remove_stopwords=[word for word in words if  word.lower() not in stop_words]\n",
    "    \n",
    "    return remove_stopwords\n",
    "    \n",
    "    "
   ]
  },
  {
   "cell_type": "code",
   "execution_count": 18,
   "metadata": {
    "colab": {
     "base_uri": "https://localhost:8080/",
     "height": 119
    },
    "id": "aytKp_gLHWub",
    "outputId": "c5040ce9-303c-40de-8f74-baa72a07469b"
   },
   "outputs": [
    {
     "data": {
      "text/plain": [
       "0    [purchase, black, fridaypros, great, price, ev...\n",
       "1    [purchase, two, amazon, echo, plus, two, dot, ...\n",
       "2    [average, alexa, option, show, thing, screen, ...\n",
       "3          [good, product, exactly, want, good, price]\n",
       "4    [rd, one, purchase, buy, one, niece, case, com...\n",
       "Name: processed_review, dtype: object"
      ]
     },
     "execution_count": 18,
     "metadata": {
      "tags": []
     },
     "output_type": "execute_result"
    }
   ],
   "source": [
    "data1['processed_review'].head().apply(textpreprocessing)"
   ]
  },
  {
   "cell_type": "markdown",
   "metadata": {},
   "source": [
    "Convert the text data to numeric or vectors"
   ]
  },
  {
   "cell_type": "code",
   "execution_count": 19,
   "metadata": {
    "id": "RYW2HxFMHWuh"
   },
   "outputs": [],
   "source": [
    "from sklearn.feature_extraction.text import CountVectorizer\n",
    "cv=CountVectorizer(analyzer=textpreprocessing).fit(data1['processed_review'])"
   ]
  },
  {
   "cell_type": "code",
   "execution_count": 20,
   "metadata": {
    "colab": {
     "base_uri": "https://localhost:8080/",
     "height": 34
    },
    "id": "OIFLTJKdHWul",
    "outputId": "9eebd335-f8c0-4255-8210-c60e8c728482"
   },
   "outputs": [
    {
     "data": {
      "text/plain": [
       "3407"
      ]
     },
     "execution_count": 20,
     "metadata": {
      "tags": []
     },
     "output_type": "execute_result"
    }
   ],
   "source": [
    "len(cv.vocabulary_)"
   ]
  },
  {
   "cell_type": "code",
   "execution_count": 21,
   "metadata": {
    "id": "jn_PP87EHWuq"
   },
   "outputs": [],
   "source": [
    "bag_of_words=cv.transform(data1[\"processed_review\"])"
   ]
  },
  {
   "cell_type": "code",
   "execution_count": 22,
   "metadata": {
    "id": "EB71Wvg1HWuu"
   },
   "outputs": [],
   "source": [
    "from sklearn.feature_extraction.text import TfidfTransformer\n",
    "tfidf=TfidfTransformer().fit(bag_of_words)\n",
    "tfidf1=tfidf.transform(bag_of_words)"
   ]
  },
  {
   "cell_type": "code",
   "execution_count": 23,
   "metadata": {
    "colab": {
     "base_uri": "https://localhost:8080/",
     "height": 34
    },
    "id": "m2IeaUwPHWuy",
    "outputId": "c2a46647-7078-4c8d-8869-00f72a473197"
   },
   "outputs": [
    {
     "data": {
      "text/plain": [
       "(4000, 3407)"
      ]
     },
     "execution_count": 23,
     "metadata": {
      "tags": []
     },
     "output_type": "execute_result"
    }
   ],
   "source": [
    "tfidf1.shape"
   ]
  },
  {
   "cell_type": "code",
   "execution_count": 24,
   "metadata": {
    "colab": {
     "base_uri": "https://localhost:8080/",
     "height": 51
    },
    "id": "hzJ3W9MLLvpj",
    "outputId": "4cfcc35b-f9cf-40c5-8851-6e73150f173a"
   },
   "outputs": [
    {
     "data": {
      "text/plain": [
       "<4000x3407 sparse matrix of type '<type 'numpy.float64'>'\n",
       "\twith 54229 stored elements in Compressed Sparse Row format>"
      ]
     },
     "execution_count": 24,
     "metadata": {
      "tags": []
     },
     "output_type": "execute_result"
    }
   ],
   "source": [
    "tfidf1"
   ]
  },
  {
   "cell_type": "markdown",
   "metadata": {},
   "source": [
    "\n",
    "# Multinomial NB "
   ]
  },
  {
   "cell_type": "markdown",
   "metadata": {},
   "source": [
    "Import ,initiate and apply Multinomial NB"
   ]
  },
  {
   "cell_type": "code",
   "execution_count": 25,
   "metadata": {
    "id": "iyfH0hQ8HWu2"
   },
   "outputs": [],
   "source": [
    "from sklearn.naive_bayes import MultinomialNB"
   ]
  },
  {
   "cell_type": "code",
   "execution_count": 26,
   "metadata": {
    "id": "jxMYJBNgHWu7"
   },
   "outputs": [],
   "source": [
    "nb=MultinomialNB().fit(tfidf1 ,data1[\"sentiment\"])"
   ]
  },
  {
   "cell_type": "code",
   "execution_count": 27,
   "metadata": {
    "id": "UayJRRZqHWvA"
   },
   "outputs": [],
   "source": [
    "test=\"i hate the product\"\n",
    "test_text_preprocess=textpreprocessing(test)\n",
    "test_vect=cv.transform(test_text_preprocess)\n",
    "trans_test=tfidf.transform(test_vect)\n",
    "pred=nb.predict(trans_test)"
   ]
  },
  {
   "cell_type": "markdown",
   "metadata": {},
   "source": [
    "Even the test statement is that negative the outcome has came out to be positive\n",
    "\n",
    "this is due to class imbalance"
   ]
  },
  {
   "cell_type": "code",
   "execution_count": 28,
   "metadata": {
    "colab": {
     "base_uri": "https://localhost:8080/",
     "height": 34
    },
    "id": "2VrDk_a1HWvF",
    "outputId": "601241ee-5c43-4d76-d446-257b5cc4b44f"
   },
   "outputs": [
    {
     "data": {
      "text/plain": [
       "array(['Positive', 'Positive'], dtype='|S8')"
      ]
     },
     "execution_count": 28,
     "metadata": {
      "tags": []
     },
     "output_type": "execute_result"
    }
   ],
   "source": [
    "pred"
   ]
  },
  {
   "cell_type": "code",
   "execution_count": 29,
   "metadata": {
    "id": "XAlNLHQ5HWvL"
   },
   "outputs": [],
   "source": [
    "columns=data1.columns.to_list()\n",
    "columns=[c for c in columns if not c in [\"sentiment\"]]\n",
    "state = np.random.RandomState(42)\n"
   ]
  },
  {
   "cell_type": "code",
   "execution_count": 30,
   "metadata": {
    "colab": {
     "base_uri": "https://localhost:8080/",
     "height": 34
    },
    "id": "35zZZibQHWvO",
    "outputId": "9c566e30-29d4-495c-bbd3-fa68f7e76114"
   },
   "outputs": [
    {
     "data": {
      "text/plain": [
       "['processed_review']"
      ]
     },
     "execution_count": 30,
     "metadata": {
      "tags": []
     },
     "output_type": "execute_result"
    }
   ],
   "source": [
    "columns"
   ]
  },
  {
   "cell_type": "code",
   "execution_count": 31,
   "metadata": {
    "id": "5m8l_Yf2HWvS"
   },
   "outputs": [],
   "source": [
    "x=data1[columns]\n",
    "y=data1['sentiment']"
   ]
  },
  {
   "cell_type": "code",
   "execution_count": 32,
   "metadata": {
    "colab": {
     "base_uri": "https://localhost:8080/",
     "height": 51
    },
    "id": "Gk2AlMPpHWvX",
    "outputId": "b7ed83a5-69d9-4b9d-d51d-142a28ed4132"
   },
   "outputs": [
    {
     "name": "stdout",
     "output_type": "stream",
     "text": [
      "(4000, 1)\n",
      "(4000,)\n"
     ]
    }
   ],
   "source": [
    "print(x.shape)\n",
    "print(y.shape)"
   ]
  },
  {
   "cell_type": "markdown",
   "metadata": {},
   "source": [
    "As its a class Imbalance problem, Balance using imblearn"
   ]
  },
  {
   "cell_type": "code",
   "execution_count": 33,
   "metadata": {
    "colab": {
     "base_uri": "https://localhost:8080/",
     "height": 122
    },
    "id": "fJm0ycgLHWvc",
    "outputId": "dff59660-d7f4-48e6-b665-3a04e1c8c328"
   },
   "outputs": [
    {
     "name": "stdout",
     "output_type": "stream",
     "text": [
      "Requirement already satisfied: imblearn in /usr/local/lib/python2.7/dist-packages (0.0)\n",
      "Requirement already satisfied: imbalanced-learn in /usr/local/lib/python2.7/dist-packages (from imblearn) (0.4.3)\n",
      "Requirement already satisfied: scipy>=0.13.3 in /usr/local/lib/python2.7/dist-packages (from imbalanced-learn->imblearn) (1.2.2)\n",
      "Requirement already satisfied: numpy>=1.8.2 in /usr/local/lib/python2.7/dist-packages (from imbalanced-learn->imblearn) (1.16.4)\n",
      "Requirement already satisfied: scikit-learn>=0.20 in /usr/local/lib/python2.7/dist-packages (from imbalanced-learn->imblearn) (0.20.3)\n"
     ]
    }
   ],
   "source": [
    "!pip install imblearn"
   ]
  },
  {
   "cell_type": "code",
   "execution_count": 34,
   "metadata": {
    "id": "CVaxeJ1iHWvg"
   },
   "outputs": [],
   "source": [
    "from imblearn.over_sampling import RandomOverSampler\n",
    "ros=RandomOverSampler(random_state=0)\n",
    "x_res,y_res=ros.fit_sample(x,y)\n"
   ]
  },
  {
   "cell_type": "code",
   "execution_count": 35,
   "metadata": {
    "colab": {
     "base_uri": "https://localhost:8080/",
     "height": 34
    },
    "id": "ZxyDXkIIHWvn",
    "outputId": "4e41c18e-da0c-41e3-d408-70d5baaa285c"
   },
   "outputs": [
    {
     "data": {
      "text/plain": [
       "((11247, 1), (11247,))"
      ]
     },
     "execution_count": 35,
     "metadata": {
      "tags": []
     },
     "output_type": "execute_result"
    }
   ],
   "source": [
    "x_res.shape , y_res.shape"
   ]
  },
  {
   "cell_type": "code",
   "execution_count": 36,
   "metadata": {
    "id": "-VvxZ9yxK3pH"
   },
   "outputs": [],
   "source": [
    "from collections import Counter"
   ]
  },
  {
   "cell_type": "code",
   "execution_count": 37,
   "metadata": {
    "colab": {
     "base_uri": "https://localhost:8080/",
     "height": 34
    },
    "id": "8X1Ak2GJLXNZ",
    "outputId": "2f8bf794-d32a-4c6d-a5d6-430e83d65aa8"
   },
   "outputs": [
    {
     "name": "stdout",
     "output_type": "stream",
     "text": [
      "Counter({'Positive': 3749, 'Neutral': 3749, 'Negative': 3749})\n"
     ]
    }
   ],
   "source": [
    "print(Counter(y_res))"
   ]
  },
  {
   "cell_type": "code",
   "execution_count": 38,
   "metadata": {
    "id": "OBZpIG4rLex8"
   },
   "outputs": [],
   "source": [
    "x1=pd.DataFrame(x_res,columns=['processed_review'])\n",
    "y1=pd.DataFrame(y_res,columns=[\"sentiment\"])"
   ]
  },
  {
   "cell_type": "code",
   "execution_count": 39,
   "metadata": {
    "id": "jKvXycXxMzLb"
   },
   "outputs": [],
   "source": [
    "final=pd.concat([x1,y1],axis=1)"
   ]
  },
  {
   "cell_type": "code",
   "execution_count": 40,
   "metadata": {
    "colab": {
     "base_uri": "https://localhost:8080/",
     "height": 204
    },
    "id": "enkYeCjqNDfC",
    "outputId": "8cc423b1-442e-4777-969d-c8153fce6054"
   },
   "outputs": [
    {
     "data": {
      "text/html": [
       "<div>\n",
       "<style scoped>\n",
       "    .dataframe tbody tr th:only-of-type {\n",
       "        vertical-align: middle;\n",
       "    }\n",
       "\n",
       "    .dataframe tbody tr th {\n",
       "        vertical-align: top;\n",
       "    }\n",
       "\n",
       "    .dataframe thead th {\n",
       "        text-align: right;\n",
       "    }\n",
       "</style>\n",
       "<table border=\"1\" class=\"dataframe\">\n",
       "  <thead>\n",
       "    <tr style=\"text-align: right;\">\n",
       "      <th></th>\n",
       "      <th>processed_review</th>\n",
       "      <th>sentiment</th>\n",
       "    </tr>\n",
       "  </thead>\n",
       "  <tbody>\n",
       "    <tr>\n",
       "      <th>0</th>\n",
       "      <td>purchase black fridaypros great price even sal...</td>\n",
       "      <td>Positive</td>\n",
       "    </tr>\n",
       "    <tr>\n",
       "      <th>1</th>\n",
       "      <td>purchase two amazon echo plus two dot plus fou...</td>\n",
       "      <td>Positive</td>\n",
       "    </tr>\n",
       "    <tr>\n",
       "      <th>2</th>\n",
       "      <td>average alexa option show thing screen still l...</td>\n",
       "      <td>Neutral</td>\n",
       "    </tr>\n",
       "    <tr>\n",
       "      <th>3</th>\n",
       "      <td>good product exactly want good price</td>\n",
       "      <td>Positive</td>\n",
       "    </tr>\n",
       "    <tr>\n",
       "      <th>4</th>\n",
       "      <td>rd one purchase buy one niece case compare one...</td>\n",
       "      <td>Positive</td>\n",
       "    </tr>\n",
       "  </tbody>\n",
       "</table>\n",
       "</div>"
      ],
      "text/plain": [
       "                                    processed_review sentiment\n",
       "0  purchase black fridaypros great price even sal...  Positive\n",
       "1  purchase two amazon echo plus two dot plus fou...  Positive\n",
       "2  average alexa option show thing screen still l...   Neutral\n",
       "3               good product exactly want good price  Positive\n",
       "4  rd one purchase buy one niece case compare one...  Positive"
      ]
     },
     "execution_count": 40,
     "metadata": {
      "tags": []
     },
     "output_type": "execute_result"
    }
   ],
   "source": [
    "final.head()"
   ]
  },
  {
   "cell_type": "code",
   "execution_count": 41,
   "metadata": {
    "colab": {
     "base_uri": "https://localhost:8080/",
     "height": 321
    },
    "id": "H9tJW23rNNOU",
    "outputId": "95ca5d11-b5df-40c6-fec0-15d23f80cde9"
   },
   "outputs": [
    {
     "data": {
      "text/plain": [
       "<matplotlib.axes._subplots.AxesSubplot at 0x7f9d6e714710>"
      ]
     },
     "execution_count": 41,
     "metadata": {
      "tags": []
     },
     "output_type": "execute_result"
    },
    {
     "data": {
      "image/png": "[encoded data removed]",
      "text/plain": [
       "<Figure size 432x288 with 1 Axes>"
      ]
     },
     "metadata": {
      "needs_background": "light",
      "tags": []
     },
     "output_type": "display_data"
    }
   ],
   "source": [
    "import matplotlib.pyplot as plt\n",
    "\n",
    "final[\"sentiment\"].value_counts().plot(kind=\"bar\")"
   ]
  },
  {
   "cell_type": "markdown",
   "metadata": {},
   "source": [
    "Balanced  now"
   ]
  },
  {
   "cell_type": "markdown",
   "metadata": {},
   "source": [
    "Split the data into testing and training datasets using train test split"
   ]
  },
  {
   "cell_type": "code",
   "execution_count": 42,
   "metadata": {
    "id": "RxWun97bNflE"
   },
   "outputs": [],
   "source": [
    "from sklearn.model_selection import train_test_split"
   ]
  },
  {
   "cell_type": "code",
   "execution_count": 43,
   "metadata": {
    "colab": {
     "base_uri": "https://localhost:8080/",
     "height": 34
    },
    "id": "ShSfBC_nM4eY",
    "outputId": "91aa289b-8853-4fd2-917d-7febcf61912b"
   },
   "outputs": [
    {
     "data": {
      "text/plain": [
       "(1125, 2)"
      ]
     },
     "execution_count": 43,
     "metadata": {
      "tags": []
     },
     "output_type": "execute_result"
    }
   ],
   "source": [
    "df = final.sample(frac=0.1, random_state=0) \n",
    "df.shape"
   ]
  },
  {
   "cell_type": "code",
   "execution_count": 44,
   "metadata": {
    "colab": {
     "base_uri": "https://localhost:8080/",
     "height": 204
    },
    "id": "-914DSsjNLnN",
    "outputId": "5e453bcc-90eb-44ec-f733-768521a12889"
   },
   "outputs": [
    {
     "data": {
      "text/html": [
       "<div>\n",
       "<style scoped>\n",
       "    .dataframe tbody tr th:only-of-type {\n",
       "        vertical-align: middle;\n",
       "    }\n",
       "\n",
       "    .dataframe tbody tr th {\n",
       "        vertical-align: top;\n",
       "    }\n",
       "\n",
       "    .dataframe thead th {\n",
       "        text-align: right;\n",
       "    }\n",
       "</style>\n",
       "<table border=\"1\" class=\"dataframe\">\n",
       "  <thead>\n",
       "    <tr style=\"text-align: right;\">\n",
       "      <th></th>\n",
       "      <th>processed_review</th>\n",
       "      <th>sentiment</th>\n",
       "    </tr>\n",
       "  </thead>\n",
       "  <tbody>\n",
       "    <tr>\n",
       "      <th>8805</th>\n",
       "      <td>buy think would great read book play game howe...</td>\n",
       "      <td>Neutral</td>\n",
       "    </tr>\n",
       "    <tr>\n",
       "      <th>9736</th>\n",
       "      <td>good tablet kid lot appts download game</td>\n",
       "      <td>Neutral</td>\n",
       "    </tr>\n",
       "    <tr>\n",
       "      <th>125</th>\n",
       "      <td>item work expect great product</td>\n",
       "      <td>Positive</td>\n",
       "    </tr>\n",
       "    <tr>\n",
       "      <th>10143</th>\n",
       "      <td>great beginner like child limit use many apps ...</td>\n",
       "      <td>Neutral</td>\n",
       "    </tr>\n",
       "    <tr>\n",
       "      <th>10937</th>\n",
       "      <td>buy kindle past time one come defective port b...</td>\n",
       "      <td>Neutral</td>\n",
       "    </tr>\n",
       "  </tbody>\n",
       "</table>\n",
       "</div>"
      ],
      "text/plain": [
       "                                        processed_review sentiment\n",
       "8805   buy think would great read book play game howe...   Neutral\n",
       "9736             good tablet kid lot appts download game   Neutral\n",
       "125                       item work expect great product  Positive\n",
       "10143  great beginner like child limit use many apps ...   Neutral\n",
       "10937  buy kindle past time one come defective port b...   Neutral"
      ]
     },
     "execution_count": 44,
     "metadata": {
      "tags": []
     },
     "output_type": "execute_result"
    }
   ],
   "source": [
    "df.head()"
   ]
  },
  {
   "cell_type": "code",
   "execution_count": 45,
   "metadata": {
    "colab": {
     "base_uri": "https://localhost:8080/",
     "height": 204
    },
    "id": "0GaN0L51Njpc",
    "outputId": "7eac221e-a319-4132-e79d-6f8fb351085c"
   },
   "outputs": [
    {
     "data": {
      "text/html": [
       "<div>\n",
       "<style scoped>\n",
       "    .dataframe tbody tr th:only-of-type {\n",
       "        vertical-align: middle;\n",
       "    }\n",
       "\n",
       "    .dataframe tbody tr th {\n",
       "        vertical-align: top;\n",
       "    }\n",
       "\n",
       "    .dataframe thead th {\n",
       "        text-align: right;\n",
       "    }\n",
       "</style>\n",
       "<table border=\"1\" class=\"dataframe\">\n",
       "  <thead>\n",
       "    <tr style=\"text-align: right;\">\n",
       "      <th></th>\n",
       "      <th>processed_review</th>\n",
       "      <th>sentiment</th>\n",
       "    </tr>\n",
       "  </thead>\n",
       "  <tbody>\n",
       "    <tr>\n",
       "      <th>0</th>\n",
       "      <td>purchase black fridaypros great price even sal...</td>\n",
       "      <td>Positive</td>\n",
       "    </tr>\n",
       "    <tr>\n",
       "      <th>1</th>\n",
       "      <td>purchase two amazon echo plus two dot plus fou...</td>\n",
       "      <td>Positive</td>\n",
       "    </tr>\n",
       "    <tr>\n",
       "      <th>2</th>\n",
       "      <td>average alexa option show thing screen still l...</td>\n",
       "      <td>Neutral</td>\n",
       "    </tr>\n",
       "    <tr>\n",
       "      <th>3</th>\n",
       "      <td>good product exactly want good price</td>\n",
       "      <td>Positive</td>\n",
       "    </tr>\n",
       "    <tr>\n",
       "      <th>4</th>\n",
       "      <td>rd one purchase buy one niece case compare one...</td>\n",
       "      <td>Positive</td>\n",
       "    </tr>\n",
       "  </tbody>\n",
       "</table>\n",
       "</div>"
      ],
      "text/plain": [
       "                                    processed_review sentiment\n",
       "0  purchase black fridaypros great price even sal...  Positive\n",
       "1  purchase two amazon echo plus two dot plus fou...  Positive\n",
       "2  average alexa option show thing screen still l...   Neutral\n",
       "3               good product exactly want good price  Positive\n",
       "4  rd one purchase buy one niece case compare one...  Positive"
      ]
     },
     "execution_count": 45,
     "metadata": {
      "tags": []
     },
     "output_type": "execute_result"
    }
   ],
   "source": [
    "final.head()"
   ]
  },
  {
   "cell_type": "code",
   "execution_count": 46,
   "metadata": {
    "id": "QvifFMUrNq0c"
   },
   "outputs": [],
   "source": [
    "xtrain,xtest,ytrain,ytest=train_test_split(df[\"processed_review\"],df[\"sentiment\"])"
   ]
  },
  {
   "cell_type": "code",
   "execution_count": 47,
   "metadata": {
    "id": "HC1_1AA3OKzV"
   },
   "outputs": [],
   "source": [
    "cv1=CountVectorizer()"
   ]
  },
  {
   "cell_type": "code",
   "execution_count": 48,
   "metadata": {
    "colab": {
     "base_uri": "https://localhost:8080/",
     "height": 34
    },
    "id": "BtdJS_1oOMuX",
    "outputId": "52211161-8c19-455d-8834-c5db56f808a8"
   },
   "outputs": [
    {
     "data": {
      "text/plain": [
       "1481"
      ]
     },
     "execution_count": 48,
     "metadata": {
      "tags": []
     },
     "output_type": "execute_result"
    }
   ],
   "source": [
    "xtranformed=cv1.fit_transform(xtrain)\n",
    "xtest_transform=cv1.transform(xtest)\n",
    "len(cv1.get_feature_names())"
   ]
  },
  {
   "cell_type": "code",
   "execution_count": 49,
   "metadata": {
    "id": "amiKclI1PdhU"
   },
   "outputs": [],
   "source": [
    "mnb=MultinomialNB()"
   ]
  },
  {
   "cell_type": "code",
   "execution_count": 50,
   "metadata": {
    "colab": {
     "base_uri": "https://localhost:8080/",
     "height": 34
    },
    "id": "NsxOJ2E0PvZa",
    "outputId": "be722d45-dfbf-4de8-b233-f7e177301151"
   },
   "outputs": [
    {
     "data": {
      "text/plain": [
       "MultinomialNB(alpha=1.0, class_prior=None, fit_prior=True)"
      ]
     },
     "execution_count": 50,
     "metadata": {
      "tags": []
     },
     "output_type": "execute_result"
    }
   ],
   "source": [
    "mnb.fit(xtranformed,ytrain)"
   ]
  },
  {
   "cell_type": "code",
   "execution_count": 51,
   "metadata": {
    "id": "7zO7CeIz56jn"
   },
   "outputs": [],
   "source": [
    "ypred=mnb.predict(xtest_transform)"
   ]
  },
  {
   "cell_type": "code",
   "execution_count": 52,
   "metadata": {
    "id": "9dVwiUcl5wzd"
   },
   "outputs": [],
   "source": [
    "from sklearn.metrics import recall_score,precision_score,f1_score,accuracy_score,confusion_matrix,classification_report\n"
   ]
  },
  {
   "cell_type": "code",
   "execution_count": 53,
   "metadata": {
    "colab": {
     "base_uri": "https://localhost:8080/",
     "height": 34
    },
    "id": "dBW2riIp7GVP",
    "outputId": "0bc6c659-8a06-42dc-e76c-9b1807d5ce07"
   },
   "outputs": [
    {
     "name": "stdout",
     "output_type": "stream",
     "text": [
      "0.8652482269503546\n"
     ]
    }
   ],
   "source": [
    "print(accuracy_score(ytest,ypred))\n"
   ]
  },
  {
   "cell_type": "code",
   "execution_count": 54,
   "metadata": {
    "colab": {
     "base_uri": "https://localhost:8080/",
     "height": 289
    },
    "id": "zWsQ0dZ-7uCx",
    "outputId": "dd0b610f-94c2-4378-dd47-cf8139077410"
   },
   "outputs": [
    {
     "name": "stdout",
     "output_type": "stream",
     "text": [
      "[0.90217391 0.87254902 0.81818182]\n",
      "[0.90710383 0.86407767 0.82285714]\n",
      "[0.91208791 0.85576923 0.82758621]\n",
      "[[83  2  7]\n",
      " [ 5 89  8]\n",
      " [ 3 13 72]]\n",
      "              precision    recall  f1-score   support\n",
      "\n",
      "    Negative       0.91      0.90      0.91        92\n",
      "     Neutral       0.86      0.87      0.86       102\n",
      "    Positive       0.83      0.82      0.82        88\n",
      "\n",
      "   micro avg       0.87      0.87      0.87       282\n",
      "   macro avg       0.87      0.86      0.86       282\n",
      "weighted avg       0.87      0.87      0.87       282\n",
      "\n"
     ]
    }
   ],
   "source": [
    "print(recall_score(ytest,ypred,average=None))\n",
    "print(f1_score(ytest,ypred,average=None))\n",
    "print(precision_score(ytest,ypred,average=None))\n",
    "print(confusion_matrix(ytest,ypred))\n",
    "print(classification_report(ytest,ypred))\n",
    "\n"
   ]
  },
  {
   "cell_type": "markdown",
   "metadata": {
    "id": "tzJcBwiNDg4R"
   },
   "source": [
    "# Now create a model using Random Forest classifier"
   ]
  },
  {
   "cell_type": "code",
   "execution_count": 55,
   "metadata": {
    "id": "pgEdngJ68ikj"
   },
   "outputs": [],
   "source": [
    "from sklearn.ensemble import RandomForestClassifier"
   ]
  },
  {
   "cell_type": "code",
   "execution_count": 56,
   "metadata": {
    "id": "w6-5uUaRDjFG"
   },
   "outputs": [],
   "source": [
    "rf=RandomForestClassifier(n_estimators=100)"
   ]
  },
  {
   "cell_type": "code",
   "execution_count": 57,
   "metadata": {
    "colab": {
     "base_uri": "https://localhost:8080/",
     "height": 136
    },
    "id": "8otgaGcfDpGS",
    "outputId": "0c1cf8cd-5598-4192-dfdf-276b76b07fb9"
   },
   "outputs": [
    {
     "data": {
      "text/plain": [
       "RandomForestClassifier(bootstrap=True, class_weight=None, criterion='gini',\n",
       "            max_depth=None, max_features='auto', max_leaf_nodes=None,\n",
       "            min_impurity_decrease=0.0, min_impurity_split=None,\n",
       "            min_samples_leaf=1, min_samples_split=2,\n",
       "            min_weight_fraction_leaf=0.0, n_estimators=100, n_jobs=None,\n",
       "            oob_score=False, random_state=None, verbose=0,\n",
       "            warm_start=False)"
      ]
     },
     "execution_count": 57,
     "metadata": {
      "tags": []
     },
     "output_type": "execute_result"
    }
   ],
   "source": [
    "rf.fit(xtranformed,ytrain)"
   ]
  },
  {
   "cell_type": "code",
   "execution_count": 58,
   "metadata": {
    "id": "mw9FuneCDuwD"
   },
   "outputs": [],
   "source": [
    "predrf=rf.predict(xtest_transform)"
   ]
  },
  {
   "cell_type": "code",
   "execution_count": 59,
   "metadata": {
    "colab": {
     "base_uri": "https://localhost:8080/",
     "height": 34
    },
    "id": "j0M7o_8jE91P",
    "outputId": "d0baa3f8-f4f3-4738-f9a2-394a5b99fecb"
   },
   "outputs": [
    {
     "name": "stdout",
     "output_type": "stream",
     "text": [
      "0.9290780141843972\n"
     ]
    }
   ],
   "source": [
    "print(accuracy_score(predrf,ytest))"
   ]
  },
  {
   "cell_type": "markdown",
   "metadata": {},
   "source": [
    "# XG BOOST"
   ]
  },
  {
   "cell_type": "code",
   "execution_count": 60,
   "metadata": {
    "id": "BEBqPrYKFCaq"
   },
   "outputs": [],
   "source": [
    "from xgboost import XGBClassifier"
   ]
  },
  {
   "cell_type": "code",
   "execution_count": 61,
   "metadata": {
    "id": "_EqFHsC8Phyc"
   },
   "outputs": [],
   "source": [
    "xgb=XGBClassifier()"
   ]
  },
  {
   "cell_type": "code",
   "execution_count": 62,
   "metadata": {
    "colab": {
     "base_uri": "https://localhost:8080/",
     "height": 119
    },
    "id": "KNsGgCIbPt8T",
    "outputId": "75b29d80-cffe-410f-cd90-f5a75d3d61fc"
   },
   "outputs": [
    {
     "data": {
      "text/plain": [
       "XGBClassifier(base_score=0.5, booster='gbtree', colsample_bylevel=1,\n",
       "       colsample_bytree=1, gamma=0, learning_rate=0.1, max_delta_step=0,\n",
       "       max_depth=3, min_child_weight=1, missing=None, n_estimators=100,\n",
       "       n_jobs=1, nthread=None, objective='multi:softprob', random_state=0,\n",
       "       reg_alpha=0, reg_lambda=1, scale_pos_weight=1, seed=None,\n",
       "       silent=True, subsample=1)"
      ]
     },
     "execution_count": 62,
     "metadata": {
      "tags": []
     },
     "output_type": "execute_result"
    }
   ],
   "source": [
    "xgb.fit(xtranformed,ytrain)"
   ]
  },
  {
   "cell_type": "code",
   "execution_count": 63,
   "metadata": {
    "id": "VcOhQBhPP7sV"
   },
   "outputs": [],
   "source": [
    "xgbpred=xgb.predict(xtest_transform)"
   ]
  },
  {
   "cell_type": "code",
   "execution_count": 64,
   "metadata": {
    "colab": {
     "base_uri": "https://localhost:8080/",
     "height": 34
    },
    "id": "lNMrPcqSP97O",
    "outputId": "e9d32f12-9920-4cdc-a55d-705344f45c17"
   },
   "outputs": [
    {
     "name": "stdout",
     "output_type": "stream",
     "text": [
      "0.8156028368794326\n"
     ]
    }
   ],
   "source": [
    "print(accuracy_score(xgbpred,ytest))"
   ]
  },
  {
   "cell_type": "code",
   "execution_count": 65,
   "metadata": {
    "id": "oX-3Qk5lP934"
   },
   "outputs": [],
   "source": [
    "from sklearn.svm import SVC"
   ]
  },
  {
   "cell_type": "code",
   "execution_count": 66,
   "metadata": {
    "id": "DiYK9gFbSZ1W"
   },
   "outputs": [],
   "source": [
    "sv=SVC()"
   ]
  },
  {
   "cell_type": "code",
   "execution_count": 67,
   "metadata": {
    "colab": {
     "base_uri": "https://localhost:8080/",
     "height": 139
    },
    "id": "bEVYSl5gSfgJ",
    "outputId": "16eadd71-d7ee-4423-c657-4bc797a034e1"
   },
   "outputs": [
    {
     "name": "stderr",
     "output_type": "stream",
     "text": [
      "/usr/local/lib/python2.7/dist-packages/sklearn/svm/base.py:196: FutureWarning: The default value of gamma will change from 'auto' to 'scale' in version 0.22 to account better for unscaled features. Set gamma explicitly to 'auto' or 'scale' to avoid this warning.\n",
      "  \"avoid this warning.\", FutureWarning)\n"
     ]
    },
    {
     "data": {
      "text/plain": [
       "SVC(C=1.0, cache_size=200, class_weight=None, coef0=0.0,\n",
       "  decision_function_shape='ovr', degree=3, gamma='auto_deprecated',\n",
       "  kernel='rbf', max_iter=-1, probability=False, random_state=None,\n",
       "  shrinking=True, tol=0.001, verbose=False)"
      ]
     },
     "execution_count": 67,
     "metadata": {
      "tags": []
     },
     "output_type": "execute_result"
    }
   ],
   "source": [
    "sv.fit(xtranformed,ytrain)"
   ]
  },
  {
   "cell_type": "code",
   "execution_count": 68,
   "metadata": {
    "id": "9_D0NZ_YSlOS"
   },
   "outputs": [],
   "source": [
    "svpred=sv.predict(xtest_transform)"
   ]
  },
  {
   "cell_type": "code",
   "execution_count": 69,
   "metadata": {
    "colab": {
     "base_uri": "https://localhost:8080/",
     "height": 34
    },
    "id": "k83zX9dGSvUo",
    "outputId": "69135e5f-6623-49fa-8842-51273672efeb"
   },
   "outputs": [
    {
     "name": "stdout",
     "output_type": "stream",
     "text": [
      "0.40070921985815605\n"
     ]
    }
   ],
   "source": [
    "print(accuracy_score(svpred,ytest))"
   ]
  },
  {
   "cell_type": "markdown",
   "metadata": {},
   "source": [
    "Accuracy is very low, try using grid search"
   ]
  },
  {
   "cell_type": "markdown",
   "metadata": {},
   "source": [
    "# GRID SEARCH CV"
   ]
  },
  {
   "cell_type": "code",
   "execution_count": 70,
   "metadata": {
    "id": "d1QevjPYUpA9"
   },
   "outputs": [],
   "source": [
    "from sklearn.model_selection import GridSearchCV\n",
    "param_grid={'C':[0.1,1,100,1000],'gamma':[1,0.1,0.01,0.001]}"
   ]
  },
  {
   "cell_type": "code",
   "execution_count": 71,
   "metadata": {
    "colab": {
     "base_uri": "https://localhost:8080/",
     "height": 1000
    },
    "id": "QcGOIduyS2UR",
    "outputId": "3b3d61ac-a3da-469b-fae7-c46d91cd1257"
   },
   "outputs": [
    {
     "name": "stdout",
     "output_type": "stream",
     "text": [
      "Fitting 3 folds for each of 16 candidates, totalling 48 fits\n",
      "[CV] C=0.1, gamma=1 ..................................................\n"
     ]
    },
    {
     "name": "stderr",
     "output_type": "stream",
     "text": [
      "/usr/local/lib/python2.7/dist-packages/sklearn/model_selection/_split.py:2053: FutureWarning: You should specify a value for 'cv' instead of relying on the default value. The default value will change from 3 to 5 in version 0.22.\n",
      "  warnings.warn(CV_WARNING, FutureWarning)\n",
      "[Parallel(n_jobs=1)]: Using backend SequentialBackend with 1 concurrent workers.\n",
      "[Parallel(n_jobs=1)]: Done   1 out of   1 | elapsed:    0.2s remaining:    0.0s\n"
     ]
    },
    {
     "name": "stdout",
     "output_type": "stream",
     "text": [
      "[CV] ............. C=0.1, gamma=1, score=0.351063829787, total=   0.1s\n",
      "[CV] C=0.1, gamma=1 ..................................................\n",
      "[CV] .............. C=0.1, gamma=1, score=0.35231316726, total=   0.1s\n",
      "[CV] C=0.1, gamma=1 ..................................................\n",
      "[CV] ............. C=0.1, gamma=1, score=0.360714285714, total=   0.1s\n",
      "[CV] C=0.1, gamma=0.1 ................................................\n"
     ]
    },
    {
     "name": "stderr",
     "output_type": "stream",
     "text": [
      "[Parallel(n_jobs=1)]: Done   2 out of   2 | elapsed:    0.3s remaining:    0.0s\n",
      "[Parallel(n_jobs=1)]: Done   3 out of   3 | elapsed:    0.5s remaining:    0.0s\n"
     ]
    },
    {
     "name": "stdout",
     "output_type": "stream",
     "text": [
      "[CV] ........... C=0.1, gamma=0.1, score=0.390070921986, total=   0.1s\n",
      "[CV] C=0.1, gamma=0.1 ................................................\n",
      "[CV] ........... C=0.1, gamma=0.1, score=0.348754448399, total=   0.1s\n",
      "[CV] C=0.1, gamma=0.1 ................................................\n",
      "[CV] ........... C=0.1, gamma=0.1, score=0.421428571429, total=   0.1s\n",
      "[CV] C=0.1, gamma=0.01 ...............................................\n",
      "[CV] .......... C=0.1, gamma=0.01, score=0.347517730496, total=   0.1s\n",
      "[CV] C=0.1, gamma=0.01 ...............................................\n",
      "[CV] .......... C=0.1, gamma=0.01, score=0.345195729537, total=   0.1s\n",
      "[CV] C=0.1, gamma=0.01 ...............................................\n",
      "[CV] .......... C=0.1, gamma=0.01, score=0.371428571429, total=   0.1s\n",
      "[CV] C=0.1, gamma=0.001 ..............................................\n",
      "[CV] ......... C=0.1, gamma=0.001, score=0.343971631206, total=   0.1s\n",
      "[CV] C=0.1, gamma=0.001 ..............................................\n",
      "[CV] ......... C=0.1, gamma=0.001, score=0.345195729537, total=   0.1s\n",
      "[CV] C=0.1, gamma=0.001 ..............................................\n",
      "[CV] ......... C=0.1, gamma=0.001, score=0.346428571429, total=   0.1s\n",
      "[CV] C=1, gamma=1 ....................................................\n",
      "[CV] ................ C=1, gamma=1, score=0.86170212766, total=   0.1s\n",
      "[CV] C=1, gamma=1 ....................................................\n",
      "[CV] ............... C=1, gamma=1, score=0.900355871886, total=   0.1s\n",
      "[CV] C=1, gamma=1 ....................................................\n",
      "[CV] ............... C=1, gamma=1, score=0.828571428571, total=   0.1s\n",
      "[CV] C=1, gamma=0.1 ..................................................\n",
      "[CV] ............. C=1, gamma=0.1, score=0.890070921986, total=   0.1s\n",
      "[CV] C=1, gamma=0.1 ..................................................\n",
      "[CV] ............. C=1, gamma=0.1, score=0.907473309609, total=   0.1s\n",
      "[CV] C=1, gamma=0.1 ..................................................\n",
      "[CV] ............. C=1, gamma=0.1, score=0.835714285714, total=   0.1s\n",
      "[CV] C=1, gamma=0.01 .................................................\n",
      "[CV] ............ C=1, gamma=0.01, score=0.712765957447, total=   0.1s\n",
      "[CV] C=1, gamma=0.01 .................................................\n",
      "[CV] ............. C=1, gamma=0.01, score=0.76512455516, total=   0.1s\n",
      "[CV] C=1, gamma=0.01 .................................................\n",
      "[CV] ............ C=1, gamma=0.01, score=0.664285714286, total=   0.1s\n",
      "[CV] C=1, gamma=0.001 ................................................\n",
      "[CV] ........... C=1, gamma=0.001, score=0.382978723404, total=   0.1s\n",
      "[CV] C=1, gamma=0.001 ................................................\n",
      "[CV] ........... C=1, gamma=0.001, score=0.373665480427, total=   0.1s\n",
      "[CV] C=1, gamma=0.001 ................................................\n",
      "[CV] ........... C=1, gamma=0.001, score=0.378571428571, total=   0.1s\n",
      "[CV] C=100, gamma=1 ..................................................\n",
      "[CV] .............. C=100, gamma=1, score=0.86170212766, total=   0.1s\n",
      "[CV] C=100, gamma=1 ..................................................\n",
      "[CV] ............. C=100, gamma=1, score=0.900355871886, total=   0.1s\n",
      "[CV] C=100, gamma=1 ..................................................\n",
      "[CV] ............. C=100, gamma=1, score=0.828571428571, total=   0.1s\n",
      "[CV] C=100, gamma=0.1 ................................................\n",
      "[CV] ........... C=100, gamma=0.1, score=0.897163120567, total=   0.1s\n",
      "[CV] C=100, gamma=0.1 ................................................\n",
      "[CV] ........... C=100, gamma=0.1, score=0.900355871886, total=   0.1s\n",
      "[CV] C=100, gamma=0.1 ................................................\n",
      "[CV] ........... C=100, gamma=0.1, score=0.814285714286, total=   0.1s\n",
      "[CV] C=100, gamma=0.01 ...............................................\n",
      "[CV] .......... C=100, gamma=0.01, score=0.851063829787, total=   0.1s\n",
      "[CV] C=100, gamma=0.01 ...............................................\n",
      "[CV] .......... C=100, gamma=0.01, score=0.893238434164, total=   0.1s\n",
      "[CV] C=100, gamma=0.01 ...............................................\n",
      "[CV] .......... C=100, gamma=0.01, score=0.835714285714, total=   0.1s\n",
      "[CV] C=100, gamma=0.001 ..............................................\n",
      "[CV] ......... C=100, gamma=0.001, score=0.843971631206, total=   0.1s\n",
      "[CV] C=100, gamma=0.001 ..............................................\n",
      "[CV] ......... C=100, gamma=0.001, score=0.889679715302, total=   0.1s\n",
      "[CV] C=100, gamma=0.001 ..............................................\n",
      "[CV] ......... C=100, gamma=0.001, score=0.810714285714, total=   0.1s\n",
      "[CV] C=1000, gamma=1 .................................................\n",
      "[CV] ............. C=1000, gamma=1, score=0.86170212766, total=   0.1s\n",
      "[CV] C=1000, gamma=1 .................................................\n",
      "[CV] ............ C=1000, gamma=1, score=0.900355871886, total=   0.1s\n",
      "[CV] C=1000, gamma=1 .................................................\n",
      "[CV] ............ C=1000, gamma=1, score=0.828571428571, total=   0.1s\n",
      "[CV] C=1000, gamma=0.1 ...............................................\n",
      "[CV] .......... C=1000, gamma=0.1, score=0.897163120567, total=   0.1s\n",
      "[CV] C=1000, gamma=0.1 ...............................................\n",
      "[CV] .......... C=1000, gamma=0.1, score=0.900355871886, total=   0.1s\n",
      "[CV] C=1000, gamma=0.1 ...............................................\n",
      "[CV] .......... C=1000, gamma=0.1, score=0.814285714286, total=   0.1s\n",
      "[CV] C=1000, gamma=0.01 ..............................................\n",
      "[CV] ......... C=1000, gamma=0.01, score=0.851063829787, total=   0.1s\n",
      "[CV] C=1000, gamma=0.01 ..............................................\n",
      "[CV] .......... C=1000, gamma=0.01, score=0.88256227758, total=   0.1s\n",
      "[CV] C=1000, gamma=0.01 ..............................................\n",
      "[CV] .................. C=1000, gamma=0.01, score=0.825, total=   0.1s\n",
      "[CV] C=1000, gamma=0.001 .............................................\n",
      "[CV] ........ C=1000, gamma=0.001, score=0.840425531915, total=   0.1s\n",
      "[CV] C=1000, gamma=0.001 .............................................\n",
      "[CV] ......... C=1000, gamma=0.001, score=0.88256227758, total=   0.1s\n",
      "[CV] C=1000, gamma=0.001 .............................................\n",
      "[CV] ........ C=1000, gamma=0.001, score=0.796428571429, total=   0.1s\n"
     ]
    },
    {
     "name": "stderr",
     "output_type": "stream",
     "text": [
      "[Parallel(n_jobs=1)]: Done  48 out of  48 | elapsed:    6.5s finished\n"
     ]
    },
    {
     "data": {
      "text/plain": [
       "GridSearchCV(cv='warn', error_score='raise-deprecating',\n",
       "       estimator=SVC(C=1.0, cache_size=200, class_weight=None, coef0=0.0,\n",
       "  decision_function_shape='ovr', degree=3, gamma='auto_deprecated',\n",
       "  kernel='rbf', max_iter=-1, probability=False, random_state=None,\n",
       "  shrinking=True, tol=0.001, verbose=False),\n",
       "       fit_params=None, iid='warn', n_jobs=None,\n",
       "       param_grid={'C': [0.1, 1, 100, 1000], 'gamma': [1, 0.1, 0.01, 0.001]},\n",
       "       pre_dispatch='2*n_jobs', refit=True, return_train_score='warn',\n",
       "       scoring=None, verbose=4)"
      ]
     },
     "execution_count": 71,
     "metadata": {
      "tags": []
     },
     "output_type": "execute_result"
    }
   ],
   "source": [
    "grid = GridSearchCV(SVC(),param_grid,refit=True,verbose=4)\n",
    "grid.fit(xtranformed,ytrain)\n"
   ]
  },
  {
   "cell_type": "code",
   "execution_count": 72,
   "metadata": {
    "id": "ctPDISRzUiwQ"
   },
   "outputs": [],
   "source": [
    "grid_pred = grid.predict(xtest_transform)\n"
   ]
  },
  {
   "cell_type": "code",
   "execution_count": 73,
   "metadata": {
    "colab": {
     "base_uri": "https://localhost:8080/",
     "height": 34
    },
    "id": "j4_ZAgGkVFMq",
    "outputId": "15fb85b0-2106-4f15-e933-ff7651d18ac8"
   },
   "outputs": [
    {
     "name": "stdout",
     "output_type": "stream",
     "text": [
      "0.9219858156028369\n"
     ]
    }
   ],
   "source": [
    "print(accuracy_score(ytest,grid_pred))"
   ]
  },
  {
   "cell_type": "markdown",
   "metadata": {},
   "source": [
    "There is a pretty much rise in accuracy \n",
    "\n",
    "before performing Grid search-40%\n",
    "\n",
    "After Grid Search =92%"
   ]
  },
  {
   "cell_type": "markdown",
   "metadata": {},
   "source": [
    "# Now using Neural networks and LSTM"
   ]
  },
  {
   "cell_type": "code",
   "execution_count": 74,
   "metadata": {
    "colab": {
     "base_uri": "https://localhost:8080/",
     "height": 34
    },
    "id": "T40U-aIxCtqJ",
    "outputId": "f1a52f9c-c8a9-46ef-b1af-ebfcb7b40f30"
   },
   "outputs": [
    {
     "name": "stderr",
     "output_type": "stream",
     "text": [
      "Using TensorFlow backend.\n"
     ]
    }
   ],
   "source": [
    "from tensorflow import keras\n",
    "from keras.preprocessing import sequence\n",
    "from keras.utils import np_utils\n",
    "from keras.models import Sequential\n",
    "from keras.layers.core import Dense, Dropout, Activation, Lambda\n",
    "from keras.layers.embeddings import Embedding\n",
    "from keras.layers.recurrent import LSTM, SimpleRNN, GRU\n"
   ]
  },
  {
   "cell_type": "code",
   "execution_count": 84,
   "metadata": {
    "id": "qi3dv_xlVN64"
   },
   "outputs": [],
   "source": [
    "top_words = 20000 \n",
    "maxlen = 100 \n",
    "batch_size = 32\n",
    "nb_classes = 3\n",
    "nb_epoch = 3"
   ]
  },
  {
   "cell_type": "code",
   "execution_count": 85,
   "metadata": {
    "id": "WtqwAmAPDio4"
   },
   "outputs": [],
   "source": [
    "from keras.preprocessing.text import Tokenizer"
   ]
  },
  {
   "cell_type": "code",
   "execution_count": 93,
   "metadata": {
    "id": "EhzVwtP9hebG"
   },
   "outputs": [],
   "source": [
    "tokenizer=Tokenizer(nb_words=top_words)\n",
    "tokenizer.fit_on_texts(xtrain)\n",
    "sequences_train=tokenizer.texts_to_sequences(xtrain)\n",
    "sequences_test=tokenizer.texts_to_sequences(xtest)\n",
    "xtrain_seq=sequence.pad_sequences(sequences_train,maxlen=maxlen)\n",
    "xtest_seq=sequence.pad_sequences(sequences_test,maxlen=maxlen)"
   ]
  },
  {
   "cell_type": "code",
   "execution_count": 105,
   "metadata": {
    "colab": {
     "base_uri": "https://localhost:8080/",
     "height": 343
    },
    "id": "8sP2m6h8heRD",
    "outputId": "88aa43c1-02f2-4eaa-89b5-efd2b9dfefe3"
   },
   "outputs": [
    {
     "name": "stderr",
     "output_type": "stream",
     "text": [
      "/usr/local/lib/python2.7/dist-packages/ipykernel_launcher.py:3: UserWarning: Update your `LSTM` call to the Keras 2 API: `LSTM(128, dropout=0.2, recurrent_dropout=0.2)`\n",
      "  This is separate from the ipykernel package so we can avoid doing imports until\n"
     ]
    },
    {
     "name": "stdout",
     "output_type": "stream",
     "text": [
      "Model: \"sequential_4\"\n",
      "_________________________________________________________________\n",
      "Layer (type)                 Output Shape              Param #   \n",
      "=================================================================\n",
      "embedding_4 (Embedding)      (None, None, 128)         2560000   \n",
      "_________________________________________________________________\n",
      "lstm_3 (LSTM)                (None, 128)               131584    \n",
      "_________________________________________________________________\n",
      "dense_2 (Dense)              (None, 3)                 387       \n",
      "_________________________________________________________________\n",
      "activation_1 (Activation)    (None, 3)                 0         \n",
      "=================================================================\n",
      "Total params: 2,691,971\n",
      "Trainable params: 2,691,971\n",
      "Non-trainable params: 0\n",
      "_________________________________________________________________\n"
     ]
    }
   ],
   "source": [
    "model=Sequential()\n",
    "model.add(Embedding(top_words,128))\n",
    "model.add(LSTM(128,dropout_W=0.2,dropout_U=0.2))\n",
    "model.add(Dense(nb_classes))\n",
    "model.add(Activation(\"softmax\"))\n",
    "\n",
    "model.summary()\n"
   ]
  },
  {
   "cell_type": "code",
   "execution_count": 117,
   "metadata": {
    "id": "V-E_l6slq8p3"
   },
   "outputs": [],
   "source": [
    "from sklearn.preprocessing import OneHotEncoder"
   ]
  },
  {
   "cell_type": "code",
   "execution_count": 120,
   "metadata": {
    "id": "uzHwM7LbrVpF"
   },
   "outputs": [],
   "source": [
    "le=OneHotEncoder()\n",
    "y_train_n=pd.get_dummies(ytrain)\n",
    "y_test_n=pd.get_dummies(ytest)"
   ]
  },
  {
   "cell_type": "code",
   "execution_count": 125,
   "metadata": {
    "colab": {
     "base_uri": "https://localhost:8080/",
     "height": 34
    },
    "id": "o0_ozwGurh2b",
    "outputId": "5661e2a4-799e-4067-9922-9e5c1d8271b0"
   },
   "outputs": [
    {
     "data": {
      "text/plain": [
       "array([0, 1, 1, 2, 2, 1, 0, 0, 0, 1, 1, 1, 0, 1, 0, 2, 1, 2, 0, 1])"
      ]
     },
     "execution_count": 125,
     "metadata": {
      "tags": []
     },
     "output_type": "execute_result"
    }
   ],
   "source": [
    "y_train_en[:20]"
   ]
  },
  {
   "cell_type": "code",
   "execution_count": 124,
   "metadata": {
    "colab": {
     "base_uri": "https://localhost:8080/",
     "height": 224
    },
    "id": "54gRPXlOrspV",
    "outputId": "d52fb950-5d9b-4b6b-ce5f-b52314428658"
   },
   "outputs": [
    {
     "name": "stderr",
     "output_type": "stream",
     "text": [
      "/usr/local/lib/python2.7/dist-packages/ipykernel_launcher.py:6: UserWarning: The `nb_epoch` argument in `fit` has been renamed `epochs`.\n",
      "  \n",
      "/usr/local/lib/python2.7/dist-packages/tensorflow_core/python/framework/indexed_slices.py:433: UserWarning: Converting sparse IndexedSlices to a dense Tensor of unknown shape. This may consume a large amount of memory.\n",
      "  \"Converting sparse IndexedSlices to a dense Tensor of unknown shape. \"\n"
     ]
    },
    {
     "name": "stdout",
     "output_type": "stream",
     "text": [
      "Epoch 1/3\n",
      "843/843 [==============================] - 6s 7ms/step - loss: 0.6282 - accuracy: 0.6667\n",
      "Epoch 2/3\n",
      "843/843 [==============================] - 5s 6ms/step - loss: 0.4838 - accuracy: 0.7631\n",
      "Epoch 3/3\n",
      "843/843 [==============================] - 5s 6ms/step - loss: 0.2473 - accuracy: 0.9193\n",
      "282/282 [==============================] - 0s 1ms/step\n"
     ]
    }
   ],
   "source": [
    "\n",
    "model.compile(loss='binary_crossentropy',\n",
    "              optimizer='adam',\n",
    "              metrics=['accuracy'])\n",
    "\n",
    "model.fit(xtrain_seq, y_train_n, batch_size=batch_size, nb_epoch=nb_epoch, verbose=1)\n",
    "\n",
    "# Model Evaluation\n",
    "score = model.evaluate(xtest_seq, y_test_n, batch_size=batch_size)"
   ]
  },
  {
   "cell_type": "markdown",
   "metadata": {},
   "source": [
    "# Camparision between neural networks and traditional ML techniques"
   ]
  },
  {
   "cell_type": "code",
   "execution_count": 146,
   "metadata": {
    "id": "8S6KUOlHsDji"
   },
   "outputs": [],
   "source": [
    "accuracy_comparision={'LSTM':0.91,'Grid search using SVM':0.92,'XGboost':0.82,\"Multinomial nb\":0.86}\n",
    "df_accuracy_comparision=pd.DataFrame(list(accuracy_comparision.items()),columns=['model','accuracy'])"
   ]
  },
  {
   "cell_type": "code",
   "execution_count": 147,
   "metadata": {
    "colab": {
     "base_uri": "https://localhost:8080/",
     "height": 173
    },
    "id": "qDEBMG7WxVIo",
    "outputId": "dc640797-4470-443a-b196-bc3966ae26b4"
   },
   "outputs": [
    {
     "data": {
      "text/html": [
       "<div>\n",
       "<style scoped>\n",
       "    .dataframe tbody tr th:only-of-type {\n",
       "        vertical-align: middle;\n",
       "    }\n",
       "\n",
       "    .dataframe tbody tr th {\n",
       "        vertical-align: top;\n",
       "    }\n",
       "\n",
       "    .dataframe thead th {\n",
       "        text-align: right;\n",
       "    }\n",
       "</style>\n",
       "<table border=\"1\" class=\"dataframe\">\n",
       "  <thead>\n",
       "    <tr style=\"text-align: right;\">\n",
       "      <th></th>\n",
       "      <th>model</th>\n",
       "      <th>accuracy</th>\n",
       "    </tr>\n",
       "  </thead>\n",
       "  <tbody>\n",
       "    <tr>\n",
       "      <th>0</th>\n",
       "      <td>Multinomial nb</td>\n",
       "      <td>0.86</td>\n",
       "    </tr>\n",
       "    <tr>\n",
       "      <th>1</th>\n",
       "      <td>LSTM</td>\n",
       "      <td>0.91</td>\n",
       "    </tr>\n",
       "    <tr>\n",
       "      <th>2</th>\n",
       "      <td>XGboost</td>\n",
       "      <td>0.82</td>\n",
       "    </tr>\n",
       "    <tr>\n",
       "      <th>3</th>\n",
       "      <td>Grid search using SVM</td>\n",
       "      <td>0.92</td>\n",
       "    </tr>\n",
       "  </tbody>\n",
       "</table>\n",
       "</div>"
      ],
      "text/plain": [
       "                   model  accuracy\n",
       "0         Multinomial nb      0.86\n",
       "1                   LSTM      0.91\n",
       "2                XGboost      0.82\n",
       "3  Grid search using SVM      0.92"
      ]
     },
     "execution_count": 147,
     "metadata": {
      "tags": []
     },
     "output_type": "execute_result"
    }
   ],
   "source": [
    "df_accuracy_comparision"
   ]
  },
  {
   "cell_type": "code",
   "execution_count": null,
   "metadata": {
    "id": "SRuGGfRZxWxT"
   },
   "outputs": [],
   "source": []
  }
 ],
 "metadata": {
  "colab": {
   "name": "capstone project.ipynb",
   "provenance": []
  },
  "kernelspec": {
   "display_name": "Python 2",
   "language": "python",
   "name": "python2"
  },
  "language_info": {
   "codemirror_mode": {
    "name": "ipython",
    "version": 2
   },
   "file_extension": ".py",
   "mimetype": "text/x-python",
   "name": "python",
   "nbconvert_exporter": "python",
   "pygments_lexer": "ipython2",
   "version": "2.7.16"
  }
 },
 "nbformat": 4,
 "nbformat_minor": 1
}
